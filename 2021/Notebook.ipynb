{
 "cells": [
  {
   "cell_type": "markdown",
   "id": "1543a4bc-2f1f-42c5-b49f-49be53b111db",
   "metadata": {
    "jp-MarkdownHeadingCollapsed": true,
    "tags": []
   },
   "source": [
    "# Day 13\n"
   ]
  },
  {
   "cell_type": "code",
   "execution_count": null,
   "id": "5d46c122-9b37-4648-aa63-9e5fe11d41ff",
   "metadata": {},
   "outputs": [],
   "source": [
    "infile = './input/day13.txt'\n",
    "\n",
    "points = []\n",
    "folds = []\n",
    "numRows = 0\n",
    "numCols = 0\n",
    "\n",
    "with open(infile) as f:\n",
    "    for line in f:\n",
    "        if line[0].isdigit():\n",
    "            pt = tuple(map(int, line.strip().split(',')))\n",
    "            numRows = max(numRows, pt[0])\n",
    "            numCols = max(numCols, pt[1])\n",
    "            points.append(pt)\n",
    "        elif line[0] == 'f':\n",
    "            a, b = line.strip().split(' ')[-1].split('=')\n",
    "            folds.append((a, int(b)))\n",
    "\n",
    "ar = [[' ']*(1+numCols) for _ in range(numRows+1)]\n",
    "for i,j in points:\n",
    "    ar[i][j] = '#'\n",
    "    \n",
    "def makeFold(ar, fold):\n",
    "    numRows = len(ar)\n",
    "    numCols = len(ar[0])\n",
    "    xy, num = fold\n",
    "    if xy == 'x':\n",
    "        rowsAbove = num\n",
    "        rowsBelow = numRows - num - 1\n",
    "        if rowsAbove > rowsBelow:\n",
    "            arOut = ar[:num]\n",
    "            for i in range(num):\n",
    "                i2 = 2*num - i\n",
    "                if i2 < numRows:\n",
    "                    for j in range(numCols):\n",
    "                        if ar[i2][j] == '#':\n",
    "                            arOut[i][j] = '#'\n",
    "        else:\n",
    "            arOut = ar[:num:-1]\n",
    "            for i in range(rowsBelow):\n",
    "                '''\n",
    "                let numRows = 20, num = 4\n",
    "                rowsAbove = 4, rowsBelow = 15\n",
    "                i=11, i2 = 0\n",
    "                i=12, i2 = 1\n",
    "                i=13, i2 = 2\n",
    "                i=14, i2 = 3\n",
    "                i2 = i - (rowsBelow-rowsAbove)\n",
    "                i2 = i- (numRows - num - 1 - num)\n",
    "                i2 = i - (numRows -2*num - 1)\n",
    "                '''\n",
    "                i2 = i - (rowsBelow - rowsAbove)\n",
    "                if i2 >= 0:\n",
    "                    for j in range(numCols):\n",
    "                        if ar[i2][j] == '#':\n",
    "                            arOut[i][j] = '#'\n",
    "    else:\n",
    "        colsLeft = num\n",
    "        colsRight = numCols - num - 1\n",
    "        if colsLeft > colsRight:\n",
    "            arOut = [row[:num] for row in ar]\n",
    "            '''\n",
    "            let numCols = 20, num = 14\n",
    "            colsLeft = 14, colsRight = 5\n",
    "            j = 13, j2 = 15\n",
    "            j = 12, j2 = 16\n",
    "            j2 = -j + 2*num\n",
    "            '''\n",
    "            for i in range(numRows):\n",
    "                for j in range(num):\n",
    "                    j2 = -j + 2*num\n",
    "                    if j2 < numCols:\n",
    "                        if ar[i][j2] == '#':\n",
    "                            arOut[i][j] = '#'\n",
    "        else:\n",
    "            arOut = [row[:num:-1] for row in ar]\n",
    "            '''\n",
    "            let numCols = 20, num = 4\n",
    "            colsLeft = 4, colsRight = 15\n",
    "            j = 14, j2 = 3\n",
    "            j = 13, j2 = 2\n",
    "            j2 = j - (colsRight-colsLeft) \n",
    "            '''\n",
    "            for i in range(numRows):\n",
    "                for j in range(colsRight):\n",
    "                    j2 = j - (colsRight-colsLeft)\n",
    "                    if j2 >= 0:\n",
    "                        if ar[i][j2] == '#':\n",
    "                            arOut[i][j] = '#'\n",
    "    return arOut\n",
    "\n",
    "for i,fold in enumerate(folds):\n",
    "    ar = makeFold(ar, fold)\n",
    "    if i==0:\n",
    "        dotCount = 0\n",
    "        for line in ar:\n",
    "            for val in line:\n",
    "                if val == '#': dotCount += 1\n",
    "        print(f'Part 1: {dotCount}')\n",
    "    \n",
    "# for line in ar:\n",
    "#     print(''.join(line))\n",
    "        \n",
    "arTrans = list(zip(*ar))\n",
    "for line in arTrans:\n",
    "    print(''.join(line))"
   ]
  },
  {
   "cell_type": "markdown",
   "id": "45191c5f-3c21-4779-8438-c70cad8fef7c",
   "metadata": {
    "tags": []
   },
   "source": [
    "# Day 14"
   ]
  },
  {
   "cell_type": "markdown",
   "id": "17bd8368-dcf2-4c32-bd29-b963454674f0",
   "metadata": {
    "jp-MarkdownHeadingCollapsed": true,
    "tags": []
   },
   "source": [
    "## Looping"
   ]
  },
  {
   "cell_type": "code",
   "execution_count": 3,
   "id": "14f28feb-28b1-4d15-8dec-edb62326d028",
   "metadata": {},
   "outputs": [
    {
     "data": {
      "text/plain": [
       "5208377027195"
      ]
     },
     "execution_count": 3,
     "metadata": {},
     "output_type": "execute_result"
    }
   ],
   "source": [
    "from collections import Counter\n",
    "\n",
    "tpl, _, *rules = open('input/day14.txt').read().split('\\n')\n",
    "rules = dict(r.split(' -> ') for r in rules)\n",
    "pairs = Counter(map(str.__add__, tpl, tpl[1:]))\n",
    "chars = Counter(tpl)\n",
    "\n",
    "for _ in range(40):\n",
    "    for (a, b), c in pairs.copy().items():\n",
    "        newChar = rules[a+b]\n",
    "        pairs[a+b] -= c\n",
    "        pairs[a+newChar] += c\n",
    "        pairs[newChar+b] += c\n",
    "        chars[newChar] += c\n",
    "        \n",
    "max(chars.values()) - min(chars.values())"
   ]
  },
  {
   "cell_type": "markdown",
   "id": "3613b2e7-852e-4c03-b4e9-4280265f5f13",
   "metadata": {
    "jp-MarkdownHeadingCollapsed": true,
    "tags": []
   },
   "source": [
    "## Recursive"
   ]
  },
  {
   "cell_type": "code",
   "execution_count": 4,
   "id": "19f60205-201d-4400-836c-8473d526bae1",
   "metadata": {},
   "outputs": [
    {
     "data": {
      "text/plain": [
       "5208377027195"
      ]
     },
     "execution_count": 4,
     "metadata": {},
     "output_type": "execute_result"
    }
   ],
   "source": [
    "from collections import Counter\n",
    "from functools import lru_cache\n",
    "\n",
    "tpl, _, *rules = open('input/day14.txt').read().split('\\n')\n",
    "rules = dict(r.split(' -> ') for r in rules)\n",
    "\n",
    "@lru_cache(maxsize=None)\n",
    "def f(a, b, depth=40):\n",
    "    if depth == 0: return Counter('')\n",
    "    x = rules[a+b]\n",
    "    return Counter(x) + f(a, x, depth-1) + f(x, b, depth-1)\n",
    "\n",
    "c = sum(map(f, tpl, tpl[1:]), Counter(tpl))\n",
    "max(c.values()) - min(c.values())\n"
   ]
  }
 ],
 "metadata": {
  "kernelspec": {
   "display_name": "Python 3 (ipykernel)",
   "language": "python",
   "name": "python3"
  },
  "language_info": {
   "codemirror_mode": {
    "name": "ipython",
    "version": 3
   },
   "file_extension": ".py",
   "mimetype": "text/x-python",
   "name": "python",
   "nbconvert_exporter": "python",
   "pygments_lexer": "ipython3",
   "version": "3.8.10"
  }
 },
 "nbformat": 4,
 "nbformat_minor": 5
}
